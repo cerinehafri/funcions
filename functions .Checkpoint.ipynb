{
 "cells": [
  {
   "cell_type": "code",
   "execution_count": 42,
   "id": "84371550",
   "metadata": {},
   "outputs": [
    {
     "name": "stdout",
     "output_type": "stream",
     "text": [
      "the max of these three numbers is 35\n"
     ]
    }
   ],
   "source": [
    "#QUESTION 01 (s1):checkpoints \n",
    "def liste(a,b,c):\n",
    "    if (a>b) and (a>c):\n",
    "        print(\"the max of these three numbers is\", a)\n",
    "    elif (b>a) and (b>c):\n",
    "        print(\"the max of these three numbers is\", b)\n",
    "    else:\n",
    "        print(\"the max of these three numbers is\", c)\n",
    "r=liste(19,35,20)"
   ]
  },
  {
   "cell_type": "code",
   "execution_count": 43,
   "id": "a6caced5",
   "metadata": {},
   "outputs": [
    {
     "name": "stdout",
     "output_type": "stream",
     "text": [
      "Largest Number:  7\n"
     ]
    }
   ],
   "source": [
    "#QUESTION 01 (s2):checkpoints \n",
    "\n",
    "def maximum(a, b, c):\n",
    "    if (a >= b) and (a >= c):\n",
    "        largest = a\n",
    "\n",
    "    elif (b >= a) and (b >= c):\n",
    "        largest = b\n",
    "    else:\n",
    "        largest = c\n",
    "\n",
    "    return largest\n",
    "\n",
    "res = maximum(2, 4, 7)\n",
    "print(\"Largest Number: \", res)"
   ]
  },
  {
   "cell_type": "code",
   "execution_count": null,
   "id": "f930e322",
   "metadata": {},
   "outputs": [],
   "source": [
    "#question 02 (s1):checkpoints \n",
    "\n",
    "low=[40,10]\n",
    "s=40\n",
    "for i in range(1,len(low)):\n",
    "    s1=s+low[i]\n",
    "    s2=s-low[i]\n",
    "    s=[s1,s2]\n",
    "print(s)"
   ]
  },
  {
   "cell_type": "code",
   "execution_count": 24,
   "id": "0ababc25",
   "metadata": {},
   "outputs": [
    {
     "data": {
      "text/plain": [
       "(50, 30)"
      ]
     },
     "execution_count": 24,
     "metadata": {},
     "output_type": "execute_result"
    }
   ],
   "source": [
    "#question 02(s2) :checkpoints \n",
    "\n",
    "def mo(a,b):\n",
    "    A=a+b\n",
    "    S=a-b\n",
    "    return(A,S)\n",
    "r=mo(40,10)\n",
    "r"
   ]
  },
  {
   "cell_type": "code",
   "execution_count": 25,
   "id": "fed6b140",
   "metadata": {},
   "outputs": [
    {
     "name": "stdout",
     "output_type": "stream",
     "text": [
      "(0, 5)\n",
      "(1, 3)\n",
      "(2, 2)\n",
      "(3, 6)\n",
      "0 5\n",
      "1 3\n",
      "2 2\n",
      "3 6\n",
      "[5, 2] [3, 6]\n"
     ]
    }
   ],
   "source": [
    "#Question 03 : checkpoints\n",
    "y=[5,3,2,6]\n",
    "even=list()\n",
    "odd=list()\n",
    "for i in enumerate(y):\n",
    "    print(i)\n",
    "for indice,i in enumerate(y):\n",
    "    print(indice,i)\n",
    "for indice,i in enumerate(y):\n",
    "    if indice%2==0:\n",
    "        even.append(i)\n",
    "    else:\n",
    "        odd.append(i)\n",
    "print(even,odd)"
   ]
  },
  {
   "cell_type": "code",
   "execution_count": 44,
   "id": "31211c56",
   "metadata": {},
   "outputs": [
    {
     "name": "stdout",
     "output_type": "stream",
     "text": [
      "red-whilte-black\n",
      "The string before modification =  red-whilte-black\n",
      "The string after modification =  black-red-whilte\n"
     ]
    }
   ],
   "source": [
    "#question 04: checkpoints\n",
    "txt=input()\n",
    "print('The string before modification = ', txt)\n",
    "x=txt.split(\"-\")\n",
    "x.sort()\n",
    "result=\"-\".join(x)\n",
    "print('The string after modification = ', result)"
   ]
  },
  {
   "cell_type": "code",
   "execution_count": 73,
   "id": "c28479e1",
   "metadata": {},
   "outputs": [
    {
     "name": "stdout",
     "output_type": "stream",
     "text": [
      "Provide D: 100,150,180\n",
      "[18, 22, 24]\n"
     ]
    }
   ],
   "source": [
    "#question 05 :checkpoints\n",
    "import math\n",
    "\n",
    "numbers = input(\"Provide D: \")\n",
    "numbers = numbers.split(',')\n",
    "\n",
    "result_list = []\n",
    "for D in numbers:\n",
    "    Q = round(math.sqrt(2 * 50 * int(D) / 30))\n",
    "    result_list.append(Q)\n",
    "\n",
    "print(result_list)\n"
   ]
  },
  {
   "cell_type": "code",
   "execution_count": null,
   "id": "091affc7",
   "metadata": {},
   "outputs": [],
   "source": []
  }
 ],
 "metadata": {
  "kernelspec": {
   "display_name": "Python 3 (ipykernel)",
   "language": "python",
   "name": "python3"
  },
  "language_info": {
   "codemirror_mode": {
    "name": "ipython",
    "version": 3
   },
   "file_extension": ".py",
   "mimetype": "text/x-python",
   "name": "python",
   "nbconvert_exporter": "python",
   "pygments_lexer": "ipython3",
   "version": "3.9.12"
  }
 },
 "nbformat": 4,
 "nbformat_minor": 5
}
